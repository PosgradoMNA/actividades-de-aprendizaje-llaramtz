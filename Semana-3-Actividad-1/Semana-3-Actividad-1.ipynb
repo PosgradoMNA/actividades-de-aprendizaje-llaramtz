{
 "cells": [
  {
   "cell_type": "markdown",
   "source": [
    "### Semana 3 - Actividad 1\n",
    "### Limpieza de datos\n",
    "\n",
    "Lázaro Lara Martínez.\n",
    "Matricula A01793198\n",
    "\n",
    "Ciencia y Analítica de datos.\n",
    "\n",
    "Profesor Titular.\n",
    "Jobish Vallikavungal Devassia\n",
    "\n",
    "Profesor Tutor.\n",
    "Mtro. Mario Alberto Solano Saldaña\n",
    "\n",
    "01/Octubre/2022"
   ],
   "metadata": {
    "collapsed": false,
    "pycharm": {
     "name": "#%% md\n"
    }
   }
  },
  {
   "cell_type": "code",
   "execution_count": null,
   "outputs": [],
   "source": [
    "### Fundamentos de bases de datos y para ciencia de datos.\n",
    "\n",
    "¿Qué es una base de datos?:\n",
    "\n",
    "Es un software capaz de almacenar gran cantidad de datos que tienen relación entre sí y están estructurados. Sus datos pueden ser consultados rápidamente utilizado un lenguaje estructurado de consultas llamado SQL. En una base de datos existen diferentes tipos de objetos como son tablas las cuales contienen columnas, filas y celdas.\n",
    "Los registros en una tabla son los renglones los cuales contienen diferentes campos o columnas, las celdas contienen un dato de dicha columna y renglón.\n",
    "También existen vistas las cuales pueden unir lógicamente diferentes tablas, índices para hacer más rápidas las consultas, triggers para ejecutar acciones antes o después de insertar, actualizar o borrar datos y constraints para restringir el contenido de los datos.\n",
    "\n",
    "Existen distintas aplicaciones para las bases de datos como bancos, aerolíneas, universidades, ventas, tiendas en línea, RH etc.\n",
    "\n",
    "Las Bases de datos más utilizadas son, Oracle MySQL, PostgreSQL y MS SQL Server.\n",
    "\n",
    "¿Qué es un Data Warehouse?\n",
    "\n",
    "Es un almacenamiento de datos que permite a las empresas comprender y utilizar sus datos para tomar decisiones estratégicas, los datos se recopilan y transforman desde diferentes sistemas en una sola base de datos que será utilizada solo para este fin.\n",
    "\n"
   ],
   "metadata": {
    "collapsed": false,
    "pycharm": {
     "name": "#%%\n"
    }
   }
  },
  {
   "cell_type": "markdown",
   "source": [
    "### Selección y limpieza de los Datos en Python\n"
   ],
   "metadata": {
    "collapsed": false,
    "pycharm": {
     "name": "#%% md\n"
    }
   }
  },
  {
   "cell_type": "markdown",
   "source": [
    "### Se importan las librerías Pandas y numpy"
   ],
   "metadata": {
    "collapsed": false,
    "pycharm": {
     "name": "#%% md\n"
    }
   }
  },
  {
   "cell_type": "code",
   "execution_count": 1,
   "outputs": [],
   "source": [
    "import pandas as pd\n",
    "import numpy as np"
   ],
   "metadata": {
    "collapsed": false,
    "pycharm": {
     "name": "#%%\n"
    }
   }
  },
  {
   "cell_type": "markdown",
   "source": [
    "Primero obtenemos los datos frescos desde el archivo csv\n",
    "Y mostramos los primeros 5 renglones."
   ],
   "metadata": {
    "collapsed": false,
    "pycharm": {
     "name": "#%% md\n"
    }
   }
  },
  {
   "cell_type": "code",
   "execution_count": 2,
   "outputs": [
    {
     "data": {
      "text/plain": "        X1   X2   X3   X4    X5   X6   X7   X8   X9  X10  ...      X15  \\\nID                                                        ...            \n1    20000  2.0  2.0  1.0  24.0  2.0  2.0 -1.0 -1.0 -2.0  ...      0.0   \n2   120000  2.0  2.0  2.0  26.0 -1.0  2.0  0.0  0.0  0.0  ...   3272.0   \n3    90000  2.0  2.0  2.0  34.0  0.0  0.0  0.0  0.0  0.0  ...  14331.0   \n4    50000  2.0  2.0  1.0  37.0  0.0  0.0  0.0  0.0  0.0  ...  28314.0   \n5    50000  1.0  2.0  1.0  57.0 -1.0  0.0 -1.0  0.0  0.0  ...  20940.0   \n\n        X16      X17     X18      X19      X20     X21     X22     X23    Y  \nID                                                                           \n1       0.0      0.0     0.0    689.0      0.0     0.0     0.0     0.0  1.0  \n2    3455.0   3261.0     0.0   1000.0   1000.0  1000.0     0.0  2000.0  1.0  \n3   14948.0  15549.0  1518.0   1500.0   1000.0  1000.0  1000.0  5000.0  0.0  \n4   28959.0  29547.0  2000.0   2019.0   1200.0  1100.0  1069.0  1000.0  0.0  \n5   19146.0  19131.0  2000.0  36681.0  10000.0  9000.0   689.0   679.0  0.0  \n\n[5 rows x 24 columns]",
      "text/html": "<div>\n<style scoped>\n    .dataframe tbody tr th:only-of-type {\n        vertical-align: middle;\n    }\n\n    .dataframe tbody tr th {\n        vertical-align: top;\n    }\n\n    .dataframe thead th {\n        text-align: right;\n    }\n</style>\n<table border=\"1\" class=\"dataframe\">\n  <thead>\n    <tr style=\"text-align: right;\">\n      <th></th>\n      <th>X1</th>\n      <th>X2</th>\n      <th>X3</th>\n      <th>X4</th>\n      <th>X5</th>\n      <th>X6</th>\n      <th>X7</th>\n      <th>X8</th>\n      <th>X9</th>\n      <th>X10</th>\n      <th>...</th>\n      <th>X15</th>\n      <th>X16</th>\n      <th>X17</th>\n      <th>X18</th>\n      <th>X19</th>\n      <th>X20</th>\n      <th>X21</th>\n      <th>X22</th>\n      <th>X23</th>\n      <th>Y</th>\n    </tr>\n    <tr>\n      <th>ID</th>\n      <th></th>\n      <th></th>\n      <th></th>\n      <th></th>\n      <th></th>\n      <th></th>\n      <th></th>\n      <th></th>\n      <th></th>\n      <th></th>\n      <th></th>\n      <th></th>\n      <th></th>\n      <th></th>\n      <th></th>\n      <th></th>\n      <th></th>\n      <th></th>\n      <th></th>\n      <th></th>\n      <th></th>\n    </tr>\n  </thead>\n  <tbody>\n    <tr>\n      <th>1</th>\n      <td>20000</td>\n      <td>2.0</td>\n      <td>2.0</td>\n      <td>1.0</td>\n      <td>24.0</td>\n      <td>2.0</td>\n      <td>2.0</td>\n      <td>-1.0</td>\n      <td>-1.0</td>\n      <td>-2.0</td>\n      <td>...</td>\n      <td>0.0</td>\n      <td>0.0</td>\n      <td>0.0</td>\n      <td>0.0</td>\n      <td>689.0</td>\n      <td>0.0</td>\n      <td>0.0</td>\n      <td>0.0</td>\n      <td>0.0</td>\n      <td>1.0</td>\n    </tr>\n    <tr>\n      <th>2</th>\n      <td>120000</td>\n      <td>2.0</td>\n      <td>2.0</td>\n      <td>2.0</td>\n      <td>26.0</td>\n      <td>-1.0</td>\n      <td>2.0</td>\n      <td>0.0</td>\n      <td>0.0</td>\n      <td>0.0</td>\n      <td>...</td>\n      <td>3272.0</td>\n      <td>3455.0</td>\n      <td>3261.0</td>\n      <td>0.0</td>\n      <td>1000.0</td>\n      <td>1000.0</td>\n      <td>1000.0</td>\n      <td>0.0</td>\n      <td>2000.0</td>\n      <td>1.0</td>\n    </tr>\n    <tr>\n      <th>3</th>\n      <td>90000</td>\n      <td>2.0</td>\n      <td>2.0</td>\n      <td>2.0</td>\n      <td>34.0</td>\n      <td>0.0</td>\n      <td>0.0</td>\n      <td>0.0</td>\n      <td>0.0</td>\n      <td>0.0</td>\n      <td>...</td>\n      <td>14331.0</td>\n      <td>14948.0</td>\n      <td>15549.0</td>\n      <td>1518.0</td>\n      <td>1500.0</td>\n      <td>1000.0</td>\n      <td>1000.0</td>\n      <td>1000.0</td>\n      <td>5000.0</td>\n      <td>0.0</td>\n    </tr>\n    <tr>\n      <th>4</th>\n      <td>50000</td>\n      <td>2.0</td>\n      <td>2.0</td>\n      <td>1.0</td>\n      <td>37.0</td>\n      <td>0.0</td>\n      <td>0.0</td>\n      <td>0.0</td>\n      <td>0.0</td>\n      <td>0.0</td>\n      <td>...</td>\n      <td>28314.0</td>\n      <td>28959.0</td>\n      <td>29547.0</td>\n      <td>2000.0</td>\n      <td>2019.0</td>\n      <td>1200.0</td>\n      <td>1100.0</td>\n      <td>1069.0</td>\n      <td>1000.0</td>\n      <td>0.0</td>\n    </tr>\n    <tr>\n      <th>5</th>\n      <td>50000</td>\n      <td>1.0</td>\n      <td>2.0</td>\n      <td>1.0</td>\n      <td>57.0</td>\n      <td>-1.0</td>\n      <td>0.0</td>\n      <td>-1.0</td>\n      <td>0.0</td>\n      <td>0.0</td>\n      <td>...</td>\n      <td>20940.0</td>\n      <td>19146.0</td>\n      <td>19131.0</td>\n      <td>2000.0</td>\n      <td>36681.0</td>\n      <td>10000.0</td>\n      <td>9000.0</td>\n      <td>689.0</td>\n      <td>679.0</td>\n      <td>0.0</td>\n    </tr>\n  </tbody>\n</table>\n<p>5 rows × 24 columns</p>\n</div>"
     },
     "execution_count": 2,
     "metadata": {},
     "output_type": "execute_result"
    }
   ],
   "source": [
    "ndf = pd.read_csv('/Users/lazaro/PycharmProjects/actividades-de-aprendizaje-llaramtz/Semana-3-Actividad-1/default_of_credit_card_clients.csv', index_col=0)\n",
    "ndf.head(5)"
   ],
   "metadata": {
    "collapsed": false,
    "pycharm": {
     "name": "#%%\n"
    }
   }
  },
  {
   "cell_type": "code",
   "execution_count": 3,
   "outputs": [
    {
     "data": {
      "text/plain": "                   X1            X2            X3            X4            X5  \\\ncount    30000.000000  29999.000000  29998.000000  29998.000000  29995.000000   \nmean    167484.322667      1.603753      1.853057      1.551903     35.484214   \nstd     129747.661567      0.489125      0.790320      0.521968      9.218024   \nmin      10000.000000      1.000000      0.000000      0.000000     21.000000   \n25%      50000.000000      1.000000      1.000000      1.000000     28.000000   \n50%     140000.000000      2.000000      2.000000      2.000000     34.000000   \n75%     240000.000000      2.000000      2.000000      2.000000     41.000000   \nmax    1000000.000000      2.000000      6.000000      3.000000     79.000000   \n\n                 X6            X7            X8            X9           X10  \\\ncount  29997.000000  29995.000000  29993.000000  29991.000000  29984.000000   \nmean      -0.016635     -0.133689     -0.166405     -0.220800     -0.266342   \nstd        1.123829      1.197254      1.196048      1.169153      1.133296   \nmin       -2.000000     -2.000000     -2.000000     -2.000000     -2.000000   \n25%       -1.000000     -1.000000     -1.000000     -1.000000     -1.000000   \n50%        0.000000      0.000000      0.000000      0.000000      0.000000   \n75%        0.000000      0.000000      0.000000      0.000000      0.000000   \nmax        8.000000      8.000000      8.000000      8.000000      8.000000   \n\n       ...            X15            X16            X17            X18  \\\ncount  ...   29985.000000   29983.000000   29990.000000   29992.000000   \nmean   ...   43275.652326   40324.493980   38881.135745    5662.945886   \nstd    ...   64345.500073   60809.984983   59561.312967   16564.165089   \nmin    ... -170000.000000  -81334.000000 -339603.000000       0.000000   \n25%    ...    2329.000000    1763.500000    1256.250000    1000.000000   \n50%    ...   19052.000000   18107.000000   17081.000000    2100.000000   \n75%    ...   54560.000000   50213.000000   49208.250000    5006.000000   \nmax    ...  891586.000000  927171.000000  961664.000000  873552.000000   \n\n                X19            X20            X21            X22  \\\ncount  2.999100e+04   29992.000000   29989.000000   29989.000000   \nmean   5.922489e+03    5225.623400    4827.252526    4800.297209   \nstd    2.304418e+04   17608.422625   15668.751975   15280.842069   \nmin    0.000000e+00       0.000000       0.000000       0.000000   \n25%    8.355000e+02     390.000000     296.000000     251.000000   \n50%    2.009000e+03    1800.000000    1500.000000    1500.000000   \n75%    5.000000e+03    4505.500000    4014.000000    4033.000000   \nmax    1.684259e+06  896040.000000  621000.000000  426529.000000   \n\n                 X23             Y  \ncount   29995.000000  29997.000000  \nmean     5216.259977      0.221189  \nstd     17778.848359      0.415054  \nmin         0.000000      0.000000  \n25%       118.000000      0.000000  \n50%      1500.000000      0.000000  \n75%      4000.000000      0.000000  \nmax    528666.000000      1.000000  \n\n[8 rows x 24 columns]",
      "text/html": "<div>\n<style scoped>\n    .dataframe tbody tr th:only-of-type {\n        vertical-align: middle;\n    }\n\n    .dataframe tbody tr th {\n        vertical-align: top;\n    }\n\n    .dataframe thead th {\n        text-align: right;\n    }\n</style>\n<table border=\"1\" class=\"dataframe\">\n  <thead>\n    <tr style=\"text-align: right;\">\n      <th></th>\n      <th>X1</th>\n      <th>X2</th>\n      <th>X3</th>\n      <th>X4</th>\n      <th>X5</th>\n      <th>X6</th>\n      <th>X7</th>\n      <th>X8</th>\n      <th>X9</th>\n      <th>X10</th>\n      <th>...</th>\n      <th>X15</th>\n      <th>X16</th>\n      <th>X17</th>\n      <th>X18</th>\n      <th>X19</th>\n      <th>X20</th>\n      <th>X21</th>\n      <th>X22</th>\n      <th>X23</th>\n      <th>Y</th>\n    </tr>\n  </thead>\n  <tbody>\n    <tr>\n      <th>count</th>\n      <td>30000.000000</td>\n      <td>29999.000000</td>\n      <td>29998.000000</td>\n      <td>29998.000000</td>\n      <td>29995.000000</td>\n      <td>29997.000000</td>\n      <td>29995.000000</td>\n      <td>29993.000000</td>\n      <td>29991.000000</td>\n      <td>29984.000000</td>\n      <td>...</td>\n      <td>29985.000000</td>\n      <td>29983.000000</td>\n      <td>29990.000000</td>\n      <td>29992.000000</td>\n      <td>2.999100e+04</td>\n      <td>29992.000000</td>\n      <td>29989.000000</td>\n      <td>29989.000000</td>\n      <td>29995.000000</td>\n      <td>29997.000000</td>\n    </tr>\n    <tr>\n      <th>mean</th>\n      <td>167484.322667</td>\n      <td>1.603753</td>\n      <td>1.853057</td>\n      <td>1.551903</td>\n      <td>35.484214</td>\n      <td>-0.016635</td>\n      <td>-0.133689</td>\n      <td>-0.166405</td>\n      <td>-0.220800</td>\n      <td>-0.266342</td>\n      <td>...</td>\n      <td>43275.652326</td>\n      <td>40324.493980</td>\n      <td>38881.135745</td>\n      <td>5662.945886</td>\n      <td>5.922489e+03</td>\n      <td>5225.623400</td>\n      <td>4827.252526</td>\n      <td>4800.297209</td>\n      <td>5216.259977</td>\n      <td>0.221189</td>\n    </tr>\n    <tr>\n      <th>std</th>\n      <td>129747.661567</td>\n      <td>0.489125</td>\n      <td>0.790320</td>\n      <td>0.521968</td>\n      <td>9.218024</td>\n      <td>1.123829</td>\n      <td>1.197254</td>\n      <td>1.196048</td>\n      <td>1.169153</td>\n      <td>1.133296</td>\n      <td>...</td>\n      <td>64345.500073</td>\n      <td>60809.984983</td>\n      <td>59561.312967</td>\n      <td>16564.165089</td>\n      <td>2.304418e+04</td>\n      <td>17608.422625</td>\n      <td>15668.751975</td>\n      <td>15280.842069</td>\n      <td>17778.848359</td>\n      <td>0.415054</td>\n    </tr>\n    <tr>\n      <th>min</th>\n      <td>10000.000000</td>\n      <td>1.000000</td>\n      <td>0.000000</td>\n      <td>0.000000</td>\n      <td>21.000000</td>\n      <td>-2.000000</td>\n      <td>-2.000000</td>\n      <td>-2.000000</td>\n      <td>-2.000000</td>\n      <td>-2.000000</td>\n      <td>...</td>\n      <td>-170000.000000</td>\n      <td>-81334.000000</td>\n      <td>-339603.000000</td>\n      <td>0.000000</td>\n      <td>0.000000e+00</td>\n      <td>0.000000</td>\n      <td>0.000000</td>\n      <td>0.000000</td>\n      <td>0.000000</td>\n      <td>0.000000</td>\n    </tr>\n    <tr>\n      <th>25%</th>\n      <td>50000.000000</td>\n      <td>1.000000</td>\n      <td>1.000000</td>\n      <td>1.000000</td>\n      <td>28.000000</td>\n      <td>-1.000000</td>\n      <td>-1.000000</td>\n      <td>-1.000000</td>\n      <td>-1.000000</td>\n      <td>-1.000000</td>\n      <td>...</td>\n      <td>2329.000000</td>\n      <td>1763.500000</td>\n      <td>1256.250000</td>\n      <td>1000.000000</td>\n      <td>8.355000e+02</td>\n      <td>390.000000</td>\n      <td>296.000000</td>\n      <td>251.000000</td>\n      <td>118.000000</td>\n      <td>0.000000</td>\n    </tr>\n    <tr>\n      <th>50%</th>\n      <td>140000.000000</td>\n      <td>2.000000</td>\n      <td>2.000000</td>\n      <td>2.000000</td>\n      <td>34.000000</td>\n      <td>0.000000</td>\n      <td>0.000000</td>\n      <td>0.000000</td>\n      <td>0.000000</td>\n      <td>0.000000</td>\n      <td>...</td>\n      <td>19052.000000</td>\n      <td>18107.000000</td>\n      <td>17081.000000</td>\n      <td>2100.000000</td>\n      <td>2.009000e+03</td>\n      <td>1800.000000</td>\n      <td>1500.000000</td>\n      <td>1500.000000</td>\n      <td>1500.000000</td>\n      <td>0.000000</td>\n    </tr>\n    <tr>\n      <th>75%</th>\n      <td>240000.000000</td>\n      <td>2.000000</td>\n      <td>2.000000</td>\n      <td>2.000000</td>\n      <td>41.000000</td>\n      <td>0.000000</td>\n      <td>0.000000</td>\n      <td>0.000000</td>\n      <td>0.000000</td>\n      <td>0.000000</td>\n      <td>...</td>\n      <td>54560.000000</td>\n      <td>50213.000000</td>\n      <td>49208.250000</td>\n      <td>5006.000000</td>\n      <td>5.000000e+03</td>\n      <td>4505.500000</td>\n      <td>4014.000000</td>\n      <td>4033.000000</td>\n      <td>4000.000000</td>\n      <td>0.000000</td>\n    </tr>\n    <tr>\n      <th>max</th>\n      <td>1000000.000000</td>\n      <td>2.000000</td>\n      <td>6.000000</td>\n      <td>3.000000</td>\n      <td>79.000000</td>\n      <td>8.000000</td>\n      <td>8.000000</td>\n      <td>8.000000</td>\n      <td>8.000000</td>\n      <td>8.000000</td>\n      <td>...</td>\n      <td>891586.000000</td>\n      <td>927171.000000</td>\n      <td>961664.000000</td>\n      <td>873552.000000</td>\n      <td>1.684259e+06</td>\n      <td>896040.000000</td>\n      <td>621000.000000</td>\n      <td>426529.000000</td>\n      <td>528666.000000</td>\n      <td>1.000000</td>\n    </tr>\n  </tbody>\n</table>\n<p>8 rows × 24 columns</p>\n</div>"
     },
     "execution_count": 3,
     "metadata": {},
     "output_type": "execute_result"
    }
   ],
   "source": [
    "# Describimos como vienen los datos.\n",
    "ndf.describe()"
   ],
   "metadata": {
    "collapsed": false,
    "pycharm": {
     "name": "#%%\n"
    }
   }
  },
  {
   "cell_type": "code",
   "execution_count": 5,
   "outputs": [],
   "source": [
    "# Copiamos el dataframe original para no sobre escribirlo.\n",
    "\n",
    "df = ndf.copy()"
   ],
   "metadata": {
    "collapsed": false,
    "pycharm": {
     "name": "#%%\n"
    }
   }
  },
  {
   "cell_type": "code",
   "execution_count": 6,
   "outputs": [
    {
     "data": {
      "text/plain": "Index(['X1', 'X2', 'X3', 'X4', 'X5', 'X6', 'X7', 'X8', 'X9', 'X10', 'X11',\n       'X12', 'X13', 'X14', 'X15', 'X16', 'X17', 'X18', 'X19', 'X20', 'X21',\n       'X22', 'X23', 'Y'],\n      dtype='object')"
     },
     "execution_count": 6,
     "metadata": {},
     "output_type": "execute_result"
    }
   ],
   "source": [
    "# Obtenemos las llaves\n",
    "df.keys()"
   ],
   "metadata": {
    "collapsed": false,
    "pycharm": {
     "name": "#%%\n"
    }
   }
  },
  {
   "cell_type": "code",
   "execution_count": 9,
   "outputs": [
    {
     "data": {
      "text/plain": "X1      0\nX2      1\nX3      2\nX4      2\nX5      5\nX6      3\nX7      5\nX8      7\nX9      9\nX10    16\nX11    14\nX12    11\nX13    11\nX14    13\nX15    15\nX16    17\nX17    10\nX18     8\nX19     9\nX20     8\nX21    11\nX22    11\nX23     5\nY       3\ndtype: int64"
     },
     "execution_count": 9,
     "metadata": {},
     "output_type": "execute_result"
    }
   ],
   "source": [
    "# Varias formas de checar los valores NaN, NA y NULL\n",
    "#df.isnull()\n",
    "df.isnull().sum()\n",
    "# df.isnull().values.any()\n",
    "# df.isnull().values.sum()\n",
    "# df.isnull().any()"
   ],
   "metadata": {
    "collapsed": false,
    "pycharm": {
     "name": "#%%\n"
    }
   }
  },
  {
   "cell_type": "code",
   "execution_count": 10,
   "outputs": [
    {
     "name": "stdout",
     "output_type": "stream",
     "text": [
      "<class 'pandas.core.frame.DataFrame'>\n",
      "Int64Index: 30000 entries, 1 to 30000\n",
      "Data columns (total 24 columns):\n",
      " #   Column  Non-Null Count  Dtype  \n",
      "---  ------  --------------  -----  \n",
      " 0   X1      30000 non-null  int64  \n",
      " 1   X2      29999 non-null  float64\n",
      " 2   X3      29998 non-null  float64\n",
      " 3   X4      29998 non-null  float64\n",
      " 4   X5      29995 non-null  float64\n",
      " 5   X6      29997 non-null  float64\n",
      " 6   X7      29995 non-null  float64\n",
      " 7   X8      29993 non-null  float64\n",
      " 8   X9      29991 non-null  float64\n",
      " 9   X10     29984 non-null  float64\n",
      " 10  X11     29986 non-null  float64\n",
      " 11  X12     29989 non-null  float64\n",
      " 12  X13     29989 non-null  float64\n",
      " 13  X14     29987 non-null  float64\n",
      " 14  X15     29985 non-null  float64\n",
      " 15  X16     29983 non-null  float64\n",
      " 16  X17     29990 non-null  float64\n",
      " 17  X18     29992 non-null  float64\n",
      " 18  X19     29991 non-null  float64\n",
      " 19  X20     29992 non-null  float64\n",
      " 20  X21     29989 non-null  float64\n",
      " 21  X22     29989 non-null  float64\n",
      " 22  X23     29995 non-null  float64\n",
      " 23  Y       29997 non-null  float64\n",
      "dtypes: float64(23), int64(1)\n",
      "memory usage: 5.7 MB\n"
     ]
    }
   ],
   "source": [
    "#Con esta instrucción obtenemos la información del dataset y vemos que todos los datos son numéricos.\n",
    "df.info()"
   ],
   "metadata": {
    "collapsed": false,
    "pycharm": {
     "name": "#%%\n"
    }
   }
  },
  {
   "cell_type": "code",
   "execution_count": 11,
   "outputs": [
    {
     "data": {
      "text/plain": "True"
     },
     "execution_count": 11,
     "metadata": {},
     "output_type": "execute_result"
    }
   ],
   "source": [
    "#Existen datos nulos?\n",
    "\n",
    "df.isnull().values.any()"
   ],
   "metadata": {
    "collapsed": false,
    "pycharm": {
     "name": "#%%\n"
    }
   }
  },
  {
   "cell_type": "code",
   "execution_count": 12,
   "outputs": [
    {
     "data": {
      "text/plain": "X1     False\nX2      True\nX3      True\nX4      True\nX5      True\nX6      True\nX7      True\nX8      True\nX9      True\nX10     True\nX11     True\nX12     True\nX13     True\nX14     True\nX15     True\nX16     True\nX17     True\nX18     True\nX19     True\nX20     True\nX21     True\nX22     True\nX23     True\nY       True\ndtype: bool"
     },
     "execution_count": 12,
     "metadata": {},
     "output_type": "execute_result"
    }
   ],
   "source": [
    "#Que campos tienen datos nulos?\n",
    "df.isnull().any()"
   ],
   "metadata": {
    "collapsed": false,
    "pycharm": {
     "name": "#%%\n"
    }
   }
  },
  {
   "cell_type": "code",
   "execution_count": 13,
   "outputs": [
    {
     "data": {
      "text/plain": "X1     30000\nX2     29999\nX3     29998\nX4     29998\nX5     29995\nX6     29997\nX7     29995\nX8     29993\nX9     29991\nX10    29984\nX11    29986\nX12    29989\nX13    29989\nX14    29987\nX15    29985\nX16    29983\nX17    29990\nX18    29992\nX19    29991\nX20    29992\nX21    29989\nX22    29989\nX23    29995\nY      29997\ndtype: int64"
     },
     "execution_count": 13,
     "metadata": {},
     "output_type": "execute_result"
    }
   ],
   "source": [
    "df.count()"
   ],
   "metadata": {
    "collapsed": false,
    "pycharm": {
     "name": "#%%\n"
    }
   }
  },
  {
   "cell_type": "code",
   "execution_count": 14,
   "outputs": [],
   "source": [
    "df.dropna(inplace = True)"
   ],
   "metadata": {
    "collapsed": false,
    "pycharm": {
     "name": "#%%\n"
    }
   }
  },
  {
   "cell_type": "code",
   "execution_count": 15,
   "outputs": [
    {
     "data": {
      "text/plain": "X1     29958\nX2     29958\nX3     29958\nX4     29958\nX5     29958\nX6     29958\nX7     29958\nX8     29958\nX9     29958\nX10    29958\nX11    29958\nX12    29958\nX13    29958\nX14    29958\nX15    29958\nX16    29958\nX17    29958\nX18    29958\nX19    29958\nX20    29958\nX21    29958\nX22    29958\nX23    29958\nY      29958\ndtype: int64"
     },
     "execution_count": 15,
     "metadata": {},
     "output_type": "execute_result"
    }
   ],
   "source": [
    "df.count()"
   ],
   "metadata": {
    "collapsed": false,
    "pycharm": {
     "name": "#%%\n"
    }
   }
  },
  {
   "cell_type": "code",
   "execution_count": 16,
   "outputs": [
    {
     "name": "stdout",
     "output_type": "stream",
     "text": [
      "      X2   X3   X4    X5   X6   X7   X8   X9  X10  X11  ...      X15      X16  \\\n",
      "ID                                                      ...                     \n",
      "19   2.0  1.0  1.0  49.0  1.0 -2.0 -2.0 -2.0 -2.0 -2.0  ...      NaN      NaN   \n",
      "39   1.0  1.0  2.0  25.0  1.0 -1.0 -1.0 -2.0 -2.0 -2.0  ...      0.0      0.0   \n",
      "50   1.0  1.0  2.0  24.0  0.0  0.0  0.0  0.0  NaN  0.0  ...  19865.0  20480.0   \n",
      "65   2.0  2.0  1.0  51.0 -1.0 -1.0 -2.0 -2.0 -1.0 -1.0  ...      0.0   2353.0   \n",
      "161  1.0  1.0  2.0  41.0  2.0  2.0  2.0  NaN  2.0  0.0  ...  28168.0  27579.0   \n",
      "\n",
      "         X17     X18     X19     X20     X21     X22     X23    Y  \n",
      "ID                                                                 \n",
      "19       NaN     0.0     0.0     0.0     0.0     0.0     0.0  0.0  \n",
      "39       NaN   780.0     0.0     0.0     0.0     0.0     0.0  1.0  \n",
      "50   20063.0  1318.0  1315.0   704.0   928.0   912.0  1069.0  0.0  \n",
      "65       0.0     0.0     NaN     0.0  2353.0     0.0     0.0  0.0  \n",
      "161  28321.0  3500.0     0.0  2200.0     NaN  1200.0  1250.0  0.0  \n",
      "\n",
      "[5 rows x 23 columns]\n"
     ]
    }
   ],
   "source": [
    "#Localizamos los valores nulos del Dadaframe original y comparamos que en el nuevo ya se borraron.\n",
    "null_columns=ndf.columns[ndf.isnull().any()]\n",
    "ndf[null_columns].isnull().sum()\n",
    "print(ndf[ndf.isnull().any(axis=1)][null_columns].head())"
   ],
   "metadata": {
    "collapsed": false,
    "pycharm": {
     "name": "#%%\n"
    }
   }
  },
  {
   "cell_type": "code",
   "execution_count": 17,
   "outputs": [
    {
     "name": "stdout",
     "output_type": "stream",
     "text": [
      "Empty DataFrame\n",
      "Columns: []\n",
      "Index: []\n"
     ]
    }
   ],
   "source": [
    "null_columns=df.columns[df.isnull().any()]\n",
    "df[null_columns].isnull().sum()\n",
    "print(df[df.isnull().any(axis=1)][null_columns].head())"
   ],
   "metadata": {
    "collapsed": false,
    "pycharm": {
     "name": "#%%\n"
    }
   }
  },
  {
   "cell_type": "code",
   "execution_count": 20,
   "outputs": [
    {
     "data": {
      "text/plain": "        X1   X2   X3   X4    X5   X6   X7   X8   X9  X10  ...      X15  \\\nID                                                        ...            \n1    20000  2.0  2.0  1.0  24.0  2.0  2.0 -1.0 -1.0 -2.0  ...      0.0   \n2   120000  2.0  2.0  2.0  26.0 -1.0  2.0  0.0  0.0  0.0  ...   3272.0   \n3    90000  2.0  2.0  2.0  34.0  0.0  0.0  0.0  0.0  0.0  ...  14331.0   \n4    50000  2.0  2.0  1.0  37.0  0.0  0.0  0.0  0.0  0.0  ...  28314.0   \n5    50000  1.0  2.0  1.0  57.0 -1.0  0.0 -1.0  0.0  0.0  ...  20940.0   \n\n        X16      X17     X18      X19      X20     X21     X22     X23    Y  \nID                                                                           \n1       0.0      0.0     0.0    689.0      0.0     0.0     0.0     0.0  1.0  \n2    3455.0   3261.0     0.0   1000.0   1000.0  1000.0     0.0  2000.0  1.0  \n3   14948.0  15549.0  1518.0   1500.0   1000.0  1000.0  1000.0  5000.0  0.0  \n4   28959.0  29547.0  2000.0   2019.0   1200.0  1100.0  1069.0  1000.0  0.0  \n5   19146.0  19131.0  2000.0  36681.0  10000.0  9000.0   689.0   679.0  0.0  \n\n[5 rows x 24 columns]",
      "text/html": "<div>\n<style scoped>\n    .dataframe tbody tr th:only-of-type {\n        vertical-align: middle;\n    }\n\n    .dataframe tbody tr th {\n        vertical-align: top;\n    }\n\n    .dataframe thead th {\n        text-align: right;\n    }\n</style>\n<table border=\"1\" class=\"dataframe\">\n  <thead>\n    <tr style=\"text-align: right;\">\n      <th></th>\n      <th>X1</th>\n      <th>X2</th>\n      <th>X3</th>\n      <th>X4</th>\n      <th>X5</th>\n      <th>X6</th>\n      <th>X7</th>\n      <th>X8</th>\n      <th>X9</th>\n      <th>X10</th>\n      <th>...</th>\n      <th>X15</th>\n      <th>X16</th>\n      <th>X17</th>\n      <th>X18</th>\n      <th>X19</th>\n      <th>X20</th>\n      <th>X21</th>\n      <th>X22</th>\n      <th>X23</th>\n      <th>Y</th>\n    </tr>\n    <tr>\n      <th>ID</th>\n      <th></th>\n      <th></th>\n      <th></th>\n      <th></th>\n      <th></th>\n      <th></th>\n      <th></th>\n      <th></th>\n      <th></th>\n      <th></th>\n      <th></th>\n      <th></th>\n      <th></th>\n      <th></th>\n      <th></th>\n      <th></th>\n      <th></th>\n      <th></th>\n      <th></th>\n      <th></th>\n      <th></th>\n    </tr>\n  </thead>\n  <tbody>\n    <tr>\n      <th>1</th>\n      <td>20000</td>\n      <td>2.0</td>\n      <td>2.0</td>\n      <td>1.0</td>\n      <td>24.0</td>\n      <td>2.0</td>\n      <td>2.0</td>\n      <td>-1.0</td>\n      <td>-1.0</td>\n      <td>-2.0</td>\n      <td>...</td>\n      <td>0.0</td>\n      <td>0.0</td>\n      <td>0.0</td>\n      <td>0.0</td>\n      <td>689.0</td>\n      <td>0.0</td>\n      <td>0.0</td>\n      <td>0.0</td>\n      <td>0.0</td>\n      <td>1.0</td>\n    </tr>\n    <tr>\n      <th>2</th>\n      <td>120000</td>\n      <td>2.0</td>\n      <td>2.0</td>\n      <td>2.0</td>\n      <td>26.0</td>\n      <td>-1.0</td>\n      <td>2.0</td>\n      <td>0.0</td>\n      <td>0.0</td>\n      <td>0.0</td>\n      <td>...</td>\n      <td>3272.0</td>\n      <td>3455.0</td>\n      <td>3261.0</td>\n      <td>0.0</td>\n      <td>1000.0</td>\n      <td>1000.0</td>\n      <td>1000.0</td>\n      <td>0.0</td>\n      <td>2000.0</td>\n      <td>1.0</td>\n    </tr>\n    <tr>\n      <th>3</th>\n      <td>90000</td>\n      <td>2.0</td>\n      <td>2.0</td>\n      <td>2.0</td>\n      <td>34.0</td>\n      <td>0.0</td>\n      <td>0.0</td>\n      <td>0.0</td>\n      <td>0.0</td>\n      <td>0.0</td>\n      <td>...</td>\n      <td>14331.0</td>\n      <td>14948.0</td>\n      <td>15549.0</td>\n      <td>1518.0</td>\n      <td>1500.0</td>\n      <td>1000.0</td>\n      <td>1000.0</td>\n      <td>1000.0</td>\n      <td>5000.0</td>\n      <td>0.0</td>\n    </tr>\n    <tr>\n      <th>4</th>\n      <td>50000</td>\n      <td>2.0</td>\n      <td>2.0</td>\n      <td>1.0</td>\n      <td>37.0</td>\n      <td>0.0</td>\n      <td>0.0</td>\n      <td>0.0</td>\n      <td>0.0</td>\n      <td>0.0</td>\n      <td>...</td>\n      <td>28314.0</td>\n      <td>28959.0</td>\n      <td>29547.0</td>\n      <td>2000.0</td>\n      <td>2019.0</td>\n      <td>1200.0</td>\n      <td>1100.0</td>\n      <td>1069.0</td>\n      <td>1000.0</td>\n      <td>0.0</td>\n    </tr>\n    <tr>\n      <th>5</th>\n      <td>50000</td>\n      <td>1.0</td>\n      <td>2.0</td>\n      <td>1.0</td>\n      <td>57.0</td>\n      <td>-1.0</td>\n      <td>0.0</td>\n      <td>-1.0</td>\n      <td>0.0</td>\n      <td>0.0</td>\n      <td>...</td>\n      <td>20940.0</td>\n      <td>19146.0</td>\n      <td>19131.0</td>\n      <td>2000.0</td>\n      <td>36681.0</td>\n      <td>10000.0</td>\n      <td>9000.0</td>\n      <td>689.0</td>\n      <td>679.0</td>\n      <td>0.0</td>\n    </tr>\n  </tbody>\n</table>\n<p>5 rows × 24 columns</p>\n</div>"
     },
     "execution_count": 20,
     "metadata": {},
     "output_type": "execute_result"
    }
   ],
   "source": [
    "#De nuevo mostramos los primeros 5 datos.\n",
    "df.head(5)"
   ],
   "metadata": {
    "collapsed": false,
    "pycharm": {
     "name": "#%%\n"
    }
   }
  },
  {
   "cell_type": "code",
   "execution_count": 21,
   "outputs": [
    {
     "name": "stdout",
     "output_type": "stream",
     "text": [
      "<class 'pandas.core.frame.DataFrame'>\n",
      "Int64Index: 29958 entries, 1 to 30000\n",
      "Data columns (total 24 columns):\n",
      " #   Column  Non-Null Count  Dtype  \n",
      "---  ------  --------------  -----  \n",
      " 0   X1      29958 non-null  int64  \n",
      " 1   X2      29958 non-null  float64\n",
      " 2   X3      29958 non-null  float64\n",
      " 3   X4      29958 non-null  float64\n",
      " 4   X5      29958 non-null  float64\n",
      " 5   X6      29958 non-null  float64\n",
      " 6   X7      29958 non-null  float64\n",
      " 7   X8      29958 non-null  float64\n",
      " 8   X9      29958 non-null  float64\n",
      " 9   X10     29958 non-null  float64\n",
      " 10  X11     29958 non-null  float64\n",
      " 11  X12     29958 non-null  float64\n",
      " 12  X13     29958 non-null  float64\n",
      " 13  X14     29958 non-null  float64\n",
      " 14  X15     29958 non-null  float64\n",
      " 15  X16     29958 non-null  float64\n",
      " 16  X17     29958 non-null  float64\n",
      " 17  X18     29958 non-null  float64\n",
      " 18  X19     29958 non-null  float64\n",
      " 19  X20     29958 non-null  float64\n",
      " 20  X21     29958 non-null  float64\n",
      " 21  X22     29958 non-null  float64\n",
      " 22  X23     29958 non-null  float64\n",
      " 23  Y       29958 non-null  float64\n",
      "dtypes: float64(23), int64(1)\n",
      "memory usage: 5.7 MB\n"
     ]
    }
   ],
   "source": [
    "# y la info resultante.\n",
    "df.info()"
   ],
   "metadata": {
    "collapsed": false,
    "pycharm": {
     "name": "#%%\n"
    }
   }
  },
  {
   "cell_type": "markdown",
   "source": [
    "### Decidí borrar los datos nulos porque no tiene sentido desde el punto de vista del negocio asignar valores de media, mediana o moda diferentes clientes además, se borraron solo 42 registros del total de 30,000.\n",
    "\n"
   ],
   "metadata": {
    "collapsed": false,
    "pycharm": {
     "name": "#%% md\n"
    }
   }
  },
  {
   "cell_type": "code",
   "execution_count": 25,
   "outputs": [
    {
     "data": {
      "text/plain": "array([2., 1.])"
     },
     "execution_count": 25,
     "metadata": {},
     "output_type": "execute_result"
    }
   ],
   "source": [
    "## Obtener los Valores diferentes en los datos de Género para corroborar que sea consistente.\n",
    "# X2: Gender (1 = male; 2 = female). Todo se ve bien.\n",
    "\n",
    "df.X2.unique()"
   ],
   "metadata": {
    "collapsed": false,
    "pycharm": {
     "name": "#%%\n"
    }
   }
  },
  {
   "cell_type": "code",
   "execution_count": 27,
   "outputs": [
    {
     "data": {
      "text/plain": "array([2., 1., 3., 5., 4., 6., 0.])"
     },
     "execution_count": 27,
     "metadata": {},
     "output_type": "execute_result"
    }
   ],
   "source": [
    "## Obtener los Valores diferentes en los datos de Género para corroborar que sea consistente.\n",
    "# X3: Education (1 = graduate school; 2 = university; 3 = high school; 4 = others).\n",
    "# Podemos ver que existen valores fuera de lo esperado. 0, 5 y 6. El cero puede considerarse vacío o nulo debe investigarse que significan los valores 5 y 6.\n",
    "\n",
    "df.X3.unique()"
   ],
   "metadata": {
    "collapsed": false,
    "pycharm": {
     "name": "#%%\n"
    }
   }
  },
  {
   "cell_type": "code",
   "execution_count": 28,
   "outputs": [
    {
     "data": {
      "text/plain": "array([1., 2., 3., 0.])"
     },
     "execution_count": 28,
     "metadata": {},
     "output_type": "execute_result"
    }
   ],
   "source": [
    "## Obtener los Valores diferentes en los datos de Género para corroborar que sea consistente.\n",
    "# X4: Marital status (1 = married; 2 = single; 3 = others). Existe el valor 0 que no se encuentra en la descripción, y podría considerarse como vacío.\n",
    "\n",
    "df.X4.unique()"
   ],
   "metadata": {
    "collapsed": false,
    "pycharm": {
     "name": "#%%\n"
    }
   }
  },
  {
   "cell_type": "code",
   "execution_count": null,
   "outputs": [],
   "source": [
    "### Sección 3"
   ],
   "metadata": {
    "collapsed": false,
    "pycharm": {
     "name": "#%%\n"
    }
   }
  },
  {
   "cell_type": "markdown",
   "source": [
    "1. ¿Qué datos considero mas importantes?\n",
    "    Para este tipo de análisis todos los datos del archivo son necesarios, es primordial saber X1 el monto del crédito, X6 –  X11 el historial de pagos, X12 – X17 monto del estado de cuenta, y X18 – X23 cantidad de los últimos pagos.\n",
    "\n",
    "2. ¿Se eliminaron o reemplazaron datos nulos? ¿Qué se hizo y por qué?\n",
    "\n",
    "    Decidí borrar los datos nulos porque no tiene sentido desde el punto de vista del negocio asignar valores de media, mediana o moda diferentes clientes. Además, se borraron solo 42 registros del total de 30,000.\n",
    "\n",
    "3. ¿Es necesario ordenar los datos para el análisis? Sí / No / ¿Por qué?\n",
    "\n",
    "    No considere necesario ordenarlos, debido a que cada registro es independiente del siguiente, no es necesario comparara un registro contra el siguiente.\n",
    "\n",
    "4. ¿Existen problemas de formato que deban solucionar antes del proceso de modelado? Sí / No / Por qué.\n",
    "\n",
    "    No existen problemas de formato, los datos categóricos X2, X3 y X4 contienen datos numéricos como se indica en la información de los atributos. El único problema que veo en los datos categóricos es unos cuantos ceros que pueden considerarse nulos, pero no puede asignarse un valor arbitrario, ya que es el nivel de educación del cliente, o su estatus marital.\n",
    "    En Educación existen valores no esperados, 5 y 6 que no vienen descritos en la información del atributo.\n",
    "    Seria cuestión de investigar cuál es el significado de dichos valores.\n",
    "\n",
    "    Todos los demás datos hablan de montos y son numéricos, los datos negativos tienen su significado en el negocio como por ejemplo X6 - X11: History of past payment. We tracked the past monthly payment records (from April to September, 2005) as follows: X6 = the repayment status in September, 2005; X7 = the repayment status in August, 2005; . . .;X11 = the repayment status in April, 2005. The measurement scale for the repayment status is: -1 = pay duly; 1 = payment delay for one month; 2 = payment delay for two months; . . .; 8 = payment delay for eight months; 9 = payment delay for nine months and above.\n",
    "\n",
    "5.\t¿Qué ajustes se realizaron en el proceso de limpieza de datos (agregar, integrar, eliminar, modificar registros (filas), cambiar atributos (columnas)?\n",
    "\n",
    "    Eliminé los datos que tenían nulos, debido a que no se pienso que sea correcto asignar valores como media a datos financieros de diferentes personas, no fue necesario hacer otro ajuste.\n"
   ],
   "metadata": {
    "collapsed": false,
    "pycharm": {
     "name": "#%% md\n"
    }
   }
  }
 ],
 "metadata": {
  "kernelspec": {
   "display_name": "Python 3",
   "language": "python",
   "name": "python3"
  },
  "language_info": {
   "codemirror_mode": {
    "name": "ipython",
    "version": 2
   },
   "file_extension": ".py",
   "mimetype": "text/x-python",
   "name": "python",
   "nbconvert_exporter": "python",
   "pygments_lexer": "ipython2",
   "version": "2.7.6"
  }
 },
 "nbformat": 4,
 "nbformat_minor": 0
}